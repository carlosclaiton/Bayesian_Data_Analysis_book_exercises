{
 "cells": [
  {
   "cell_type": "markdown",
   "metadata": {},
   "source": [
    "## Bayesian Data Analysis, solved exercises\n",
    "\n",
    "In this notebook I go through few exercices from the book Bayesian Data Analysis, third Edition, Andrew Gelman, John B. Carlin, Hal S. Stern, David B. Dunson, Aki Vehtari, and Donald B. Rubin. \n",
    "\n",
    "The idea is to guide a starter in the subject, going very slow and show all the steps by combining it to python implementations. Fell free to fork and collaborate with few answers, and help me to check my ones.\n",
    "\n",
    "Soluction to the problems by Carlos C. N. Kuhn \\\n",
    "carlosclaitonkuhn@gmail.com"
   ]
  },
  {
   "cell_type": "markdown",
   "metadata": {},
   "source": [
    "### 1.12 Exercices\n",
    "\n",
    "#### 1. Conditional probability: suppose that if $\\theta=1$, then $y$ has a normal distribution with mean 1 and standard deviation $\\sigma$, and if $\\theta=2$, then $y$ has a normal distribution with mean 2 and standard deviation $\\sigma$. Also, suppose $\\mathrm{Pr}(\\theta=1)=0.5$  and $\\mathrm{Pr}(\\theta=2)=0.5$ ."
   ]
  },
  {
   "cell_type": "markdown",
   "metadata": {},
   "source": [
    "#### (a) For $\\sigma=2$, write the formula for the marginal probability density for $y$ and sketch it."
   ]
  },
  {
   "cell_type": "markdown",
   "metadata": {},
   "source": [
    "Answer: a normal distribution $N(\\mu, \\sigma)$ is a normalised gaussian distribution that has the form:\n",
    "$$ p(y|\\mu) = \\frac{1}{\\sigma\\sqrt{2\\pi}}\\mathrm{e}^{-\\left(\\frac{y-\\mu}{\\sqrt{2}\\sigma}\\right)^2}$$\n",
    "\n",
    "for us now $\\mu = \\theta$, then we have\n",
    "\n",
    "$$ p(y) = \\mathrm{Pr(\\theta=1)}p(y|\\mu=\\theta=1)+\\mathrm{Pr(\\theta=2)}p(y|\\mu=\\theta=2)$$"
   ]
  },
  {
   "cell_type": "code",
   "execution_count": 140,
   "metadata": {},
   "outputs": [
    {
     "name": "stdout",
     "output_type": "stream",
     "text": [
      "checking normalization = 0.9989999904426634 \n"
     ]
    },
    {
     "data": {
      "image/png": "[encoded data removed]",
      "text/plain": [
       "<Figure size 720x360 with 1 Axes>"
      ]
     },
     "metadata": {
      "needs_background": "light"
     },
     "output_type": "display_data"
    }
   ],
   "source": [
    "import numpy as np\n",
    "import matplotlib.pyplot as plt\n",
    "\n",
    "# create a module that returns the N(\\mu,\\sigma^2)\n",
    "def gauss(mean,sigma, x):\n",
    "    dist = np.exp(-((x-mean)/(sigma*np.sqrt(2)))**2)/(sigma*np.sqrt(2*np.pi))\n",
    "    return dist\n",
    "\n",
    "y=np.linspace(-10,20,1000)\n",
    "P_y = 0.5*gauss(1,2,y)+0.5*gauss(2,2,y)\n",
    "\n",
    "fig = plt.figure(figsize=(10,5))\n",
    "ax = fig.add_subplot(1,1,1)\n",
    "ax.plot(y,P_y)\n",
    "plt.xlabel('y', size=16)\n",
    "plt.ylabel('Probability distribution',size=16)\n",
    "\n",
    "# checking if the integration is 1\n",
    "dy = np.unique(np.round(np.diff(y),2))\n",
    "print(f'checking normalization = {np.sum(P_y)*dy[0]} ' )"
   ]
  },
  {
   "cell_type": "markdown",
   "metadata": {},
   "source": [
    "#### (b) What is Pr($\\theta=1|y=1$), again supposing $\\sigma=2$?"
   ]
  },
  {
   "cell_type": "markdown",
   "metadata": {},
   "source": [
    "Here we need to compute all the prior (marginal probabilities) and then use Bayes' equation\n",
    "\n",
    "$$\\mathrm{Pr}(\\theta=1|y) = \\frac{p(y|\\theta=1)\\mathrm{Pr}(\\theta=1)}{p(y|\\theta=1)\\mathrm{Pr}(\\theta=1)+p(y|\\theta=2)\\mathrm{Pr}(\\theta=2)}$$\n",
    "\n",
    "it is given $\\mathrm{Pr}(\\theta=1)=\\mathrm{Pr}(\\theta=2)=0.5$, then we need the $p(y=1|\\theta=1)$, which we can get from the distribution above"
   ]
  },
  {
   "cell_type": "code",
   "execution_count": 83,
   "metadata": {},
   "outputs": [
    {
     "name": "stdout",
     "output_type": "stream",
     "text": [
      "p(y=1|theta=1) = 0.2\n",
      "p(y=1|theta=2) = 0.18\n"
     ]
    }
   ],
   "source": [
    "p_y1_theta1 = round(gauss(1,2,1),2)\n",
    "p_y1_theta2 = round(gauss(2,2,1),2)\n",
    "print(f'p(y=1|theta=1) = {p_y1_theta1}')\n",
    "print(f'p(y=1|theta=2) = {p_y1_theta2}')\n",
    "\n",
    "# we then can put on the equation "
   ]
  },
  {
   "cell_type": "code",
   "execution_count": 81,
   "metadata": {},
   "outputs": [
    {
     "name": "stdout",
     "output_type": "stream",
     "text": [
      "Pr(theta=1|y=1) = 0.53 \n",
      "Pr(theta=2|y=1) = 0.47 \n"
     ]
    }
   ],
   "source": [
    "Pr_theta1_y1 = p_y1_theta1*0.5/(p_y1_theta1*0.5+p_y1_theta2*0.5)\n",
    "Pr_theta2_y1 = p_y1_theta2*0.5/(p_y1_theta1*0.5+p_y1_theta2*0.5)\n",
    "print(f'Pr(theta=1|y=1) = {round(Pr_theta1_y1,2)} ')\n",
    "print(f'Pr(theta=2|y=1) = {round(Pr_theta2_y1,2)} ')"
   ]
  },
  {
   "cell_type": "markdown",
   "metadata": {},
   "source": [
    "#### (c) Describe how the posterior density of $\\theta$ changes in shape as $\\sigma$ is increased and as it is decreased.\n",
    "Answer: "
   ]
  },
  {
   "cell_type": "markdown",
   "metadata": {},
   "source": [
    "#### 3. Probability calculation for genetics (from Lindley, 1965): suppose that in each individual of a large population there is a pair of genes, each of which can be either $x$ or $X$, that controls eye color: those with $xx$ have blue eyes, while heterozygotes (those with $Xx$ or $xX$) and those with $XX$ have brown eyes. The proportion of blue-eyed individuals is $p^2$ and of heterozygotes is $2p(1 − p)$, where $0 < p < 1$. Each parent transmits one of its own genes to the child; if a parent is a heterozygote, the probability that it transmits the gene of type $X$ is $1/2$. Assuming random mating, show that among brown-eyed children of brown-eyed parents, the expected proportion of heterozygotes is $2p/(1+2p)$. Suppose Judy, a brown-eyed child of brown-eyed parents, marries a heterozygote, and they have $n$ children, all brown-eyed. Find the posterior probability that Judy is a heterozygote and the probability that her first grandchild has blue eyes."
   ]
  },
  {
   "cell_type": "code",
   "execution_count": null,
   "metadata": {},
   "outputs": [],
   "source": []
  },
  {
   "cell_type": "markdown",
   "metadata": {},
   "source": [
    "#### 4. Probability assignment: we will use the football dataset to estimate some conditional probabilities about professional football games. There were twelve games with point spreads of 8 points; the outcomes in those games were: −7, −5, −3, −3, 1, 6, 7, 13, 15, 16, 20, and 21, with positive values indicating wins by the favorite and negative values indicating wins by the underdog. Consider the following conditional probabilities:\n",
    "\n",
    "#### Pr(Favorite wins | point spread = 8)\n",
    "#### Pr(favorite wins by at least 8 | point spread = 8);\n",
    "#### Pr(favorite wins by at least 8 | point spread = 8 and favorite wins).\n"
   ]
  },
  {
   "cell_type": "markdown",
   "metadata": {},
   "source": [
    "#### 4.a Estimate each of these using the relative frequencies of games with ta point spread of 8.\n",
    "\n",
    "we need to know the number of positives in the distribution of outcomes to get the number of wins = 8 positives outcome.\n",
    "we also need the number of total games = 12\n",
    "\n",
    "$\\mathrm{Pr(Favorite \\, wins | point \\, spread = 8)} = \\frac{\\mathrm{\\# \\,of\\, Favorite\\, wins}}{\\mathrm{\\#\\, of\\, point\\, spread = 8}} = \\frac{8}{12} = 0.67$ \n",
    "\n",
    "$\\mathrm{Pr(Favorite \\,wins\\,by\\,at\\,least\\,8 | point \\, spread = 8)} = \\frac{5}{12} = 0.42$ \n",
    "\n",
    "$\\mathrm{Pr(Favorite \\,wins \\,by\\,at\\,least\\,8 | point \\, spread = 8\\, and\\, favority\\, wins )} = \\frac{5}{8} = 0.63$ \n"
   ]
  },
  {
   "cell_type": "markdown",
   "metadata": {},
   "source": [
    "#### 4.b Estimate each using the normal approximation for the distribution of (outcome - point spread)\n",
    "\n",
    "First I need to fit a Gaussian distribution to the data. As this is about Baysian Inference, lets use Baysian Inference and MMC to fit the data to a Normal distribution and MMC. I will use the script made by Joseph Moukarzel, whcih can be find at https://github.com/Joseph94m/MCMC.\n"
   ]
  },
  {
   "cell_type": "code",
   "execution_count": 166,
   "metadata": {},
   "outputs": [
    {
     "name": "stdout",
     "output_type": "stream",
     "text": [
      "[-15 -13 -11 -11  -7  -2  -1   5   7   8  12  13]\n"
     ]
    }
   ],
   "source": [
    "# get the  data-spread points\n",
    "outcome = np.array([-7,-5,-3,-3,1,6,7,13,15,16,20,21])-8\n",
    "\n",
    "\n",
    "# Copyright (c) 2019 Plessia Stanislas\n",
    "# The tranistion model defines how to move from sigma_current to sigma_new\n",
    "transition_model = lambda x: [x[0],np.random.normal(x[1],1,(1,))[0]]\n",
    "\n",
    "def prior(x):\n",
    "    #x[0] = mu, x[1]=sigma (new or current)\n",
    "    #returns 1 for all valid values of sigma. Log(1) =0, so it does not affect the summation.\n",
    "    #returns 0 for all invalid values of sigma (<=0). Log(0)=-infinity, and Log(negative number) is undefined.\n",
    "    #It makes the new sigma infinitely unlikely.\n",
    "    if(x[1] <=0):\n",
    "        return 0\n",
    "    return 1\n",
    "\n",
    "#Computes the likelihood of the data using scipy implementation. It's pretty slow.\n",
    "def log_lik_normal(x,data):\n",
    "    #x[0]=mu, x[1]=sigma (new or current)\n",
    "    #data = the observation\n",
    "    return np.sum(np.log(stats.norm(x[0],x[1]).pdf(data)))\n",
    "\n",
    "\n",
    "#Defines whether to accept or reject the new sample\n",
    "def acceptance(x, x_new):\n",
    "    if x_new>x:\n",
    "        return True\n",
    "    else:\n",
    "        accept=np.random.uniform(0,1)\n",
    "        # Since we did a log likelihood, we need to exponentiate in order to compare to the random number\n",
    "        # less likely x_new are less likely to be accepted\n",
    "        return (accept < (np.exp(x_new-x)))\n",
    "\n",
    "\n",
    "def metropolis_hastings(likelihood_computer,prior, transition_model, param_init,iterations,data,acceptance_rule):\n",
    "    # likelihood_computer(x,data): returns the likelihood that these parameters generated the data\n",
    "    # transition_model(x): a function that draws a sample from a symmetric distribution and returns it\n",
    "    # param_init: a starting sample\n",
    "    # iterations: number of accepted to generated\n",
    "    # data: the data that we wish to model\n",
    "    # acceptance_rule(x,x_new): decides whether to accept or reject the new sample\n",
    "    x = param_init\n",
    "    accepted = []\n",
    "    rejected = []   \n",
    "    for i in range(iterations):\n",
    "        x_new =  transition_model(x)    \n",
    "        x_lik = likelihood_computer(x,data)\n",
    "        x_new_lik = likelihood_computer(x_new,data) \n",
    "        if (acceptance_rule(x_lik+np.log(prior(x)),x_new_lik+np.log(prior(x_new)))):            \n",
    "            x = x_new\n",
    "            accepted.append(x_new)\n",
    "        else:\n",
    "            rejected.append(x_new)            \n",
    "                \n",
    "    return np.array(accepted), np.array(rejected)\n",
    "\n",
    "accepted, rejected = metropolis_hastings(log_lik_normal,prior,transition_model,[0,13.86],5000,outcome,acceptance)"
   ]
  },
  {
   "cell_type": "code",
   "execution_count": 178,
   "metadata": {},
   "outputs": [
    {
     "name": "stdout",
     "output_type": "stream",
     "text": [
      "0.0 11.11424944976261\n"
     ]
    },
    {
     "data": {
      "text/plain": [
       "<matplotlib.legend.Legend at 0x1a1f85cb50>"
      ]
     },
     "execution_count": 178,
     "metadata": {},
     "output_type": "execute_result"
    },
    {
     "data": {
      "image/png": "[encoded data removed]",
      "text/plain": [
       "<Figure size 720x720 with 1 Axes>"
      ]
     },
     "metadata": {
      "needs_background": "light"
     },
     "output_type": "display_data"
    }
   ],
   "source": [
    "#get the last 75% of the accepted fited values to calculate the mean to use as our model\n",
    "show=int(-0.75*accepted.shape[0])\n",
    "hist_show=int(-0.75*accepted.shape[0])\n",
    "mu=accepted[show:,0].mean()\n",
    "sigma=accepted[show:,1].mean()\n",
    "print(mu, sigma)\n",
    "\n",
    "model = lambda t,mu,sigma:np.random.normal(mu,sigma,t)\n",
    "observation_gen=model(50,mu,sigma)\n",
    "fig = plt.figure(figsize=(10,10))\n",
    "ax = fig.add_subplot(1,1,1)\n",
    "ax.hist( observation_gen,bins=10 ,label=\"Predicted distribution \")\n",
    "ax.hist( outcome,bins=10 ,alpha=0.5, label=\"Original values \")\n",
    "ax.set_xlabel(\"Mean\")\n",
    "ax.set_ylabel(\"Frequency\")\n",
    "ax.set_title(\"Posterior distribution of predicitons\")\n",
    "ax.legend()"
   ]
  },
  {
   "cell_type": "markdown",
   "metadata": {},
   "source": [
    "it is clear that I don't have enough data to get a good fit, and in this case it is a bid approximation. Anyway, we are going to take the distribution to be $d=y-\\mathrm{spread\\,points} \\rightarrow d|\\mathrm{spread\\,points} \\approx N(0,11^2)$. Note as our model has mean to be zero, the probability of favority wins is $1/2$, it is the area on the positive side of the distribution. \n",
    "\n",
    "$$\\mathrm{Pr(favorite\\,wins|spread\\,points=8)} = \\mathrm{Pr(y>0|spread\\,points=8)} = \\mathrm{Pr(d>-spread\\,points|spread\\,points=8)}$$\n",
    "\n",
    "$$\\mathrm{Pr(d>-spread\\,points|spread\\,points=8)} = 1 - CDF(-\\mathrm{spread\\,points}) = CDF(\\mathrm{spread\\,points})$$"
   ]
  },
  {
   "cell_type": "code",
   "execution_count": 226,
   "metadata": {},
   "outputs": [
    {
     "name": "stdout",
     "output_type": "stream",
     "text": [
      "Using scipy.stats:\n",
      "Pr(favorite wins|spread points = 8) = CDF(8) = 0.7641749093483567\n",
      "Pr(favorite wins at list 8|spread points = 8) = CDF(0) = 0.5\n",
      "Pr(favorite wins at list 8|spread points = 8 and favorite wins) = CDF(0) = 0.6543004669263094\n",
      "\n",
      "Using my functions:\n",
      "Pr(favorite wins|spread points = 8) = CDF(8) = 0.7641172505627278\n",
      "Pr(favorite wins at list 8|spread points = 8) = CDF(0) = 0.4999465895274767\n",
      "Pr(favorite wins at list 8|spread points = 8 and favorite wins) = CDF(0) = 0.6542799408851131\n"
     ]
    }
   ],
   "source": [
    "\n",
    "# using the stats normal distribution we can have\n",
    "print(f'Using scipy.stats:')\n",
    "print(f'Pr(favorite wins|spread points = 8) = CDF(8) = {stats.norm(0, sigma).cdf(8)}')\n",
    "print(f'Pr(favorite wins at list 8|spread points = 8) = CDF(0) = {stats.norm(0, sigma).cdf(0)}')\n",
    "print(f'Pr(favorite wins at list 8|spread points = 8 and favorite wins) = CDF(0) = {stats.norm(0, sigma).cdf(0)/stats.norm(0, sigma).cdf(8)}')\n",
    "\n",
    "# using manualy \n",
    "# define a module to calculate the CDF (cumulative distribution function)\n",
    "def cdf_pr(sig, x):\n",
    "    y=np.linspace(-50,50,10000)\n",
    "    Pr_y = gauss(0,sig,y)\n",
    "    dy = np.unique(np.round(np.diff(y),2))\n",
    "    cdf = np.sum(Pr_y[np.where(y<x)])*dy\n",
    "    return cdf[0]\n",
    "print()\n",
    "print(f'Using my functions:')\n",
    "print(f'Pr(favorite wins|spread points = 8) = CDF(8) = {cdf_pr(sigma,8)}')\n",
    "print(f'Pr(favorite wins at list 8|spread points = 8) = CDF(0) = {cdf_pr(sigma,0)}')\n",
    "print(f'Pr(favorite wins at list 8|spread points = 8 and favorite wins) = CDF(0) = {cdf_pr(sigma,0)/cdf_pr(sigma,8)}')\n",
    "\n"
   ]
  },
  {
   "cell_type": "code",
   "execution_count": null,
   "metadata": {},
   "outputs": [],
   "source": []
  },
  {
   "cell_type": "code",
   "execution_count": null,
   "metadata": {},
   "outputs": [],
   "source": []
  },
  {
   "cell_type": "code",
   "execution_count": null,
   "metadata": {},
   "outputs": [],
   "source": []
  },
  {
   "cell_type": "code",
   "execution_count": null,
   "metadata": {},
   "outputs": [],
   "source": []
  },
  {
   "cell_type": "code",
   "execution_count": null,
   "metadata": {},
   "outputs": [],
   "source": []
  },
  {
   "cell_type": "code",
   "execution_count": null,
   "metadata": {},
   "outputs": [],
   "source": []
  }
 ],
 "metadata": {
  "kernelspec": {
   "display_name": "Python 3",
   "language": "python",
   "name": "python3"
  },
  "language_info": {
   "codemirror_mode": {
    "name": "ipython",
    "version": 3
   },
   "file_extension": ".py",
   "mimetype": "text/x-python",
   "name": "python",
   "nbconvert_exporter": "python",
   "pygments_lexer": "ipython3",
   "version": "3.7.7"
  }
 },
 "nbformat": 4,
 "nbformat_minor": 4
}
